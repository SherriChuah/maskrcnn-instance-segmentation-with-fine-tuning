{
  "cells": [
    {
      "cell_type": "markdown",
      "id": "980c14fe",
      "metadata": {
        "id": "980c14fe"
      },
      "source": [
        "## Testing work"
      ]
    },
    {
      "cell_type": "code",
      "source": [
        "from google.colab import drive\n",
        "drive.mount('/content/drive')"
      ],
      "metadata": {
        "id": "LB7I2Mtpsd3r",
        "outputId": "dcbc3719-e3a2-4dd1-8d15-981459438cf9",
        "colab": {
          "base_uri": "https://localhost:8080/"
        }
      },
      "id": "LB7I2Mtpsd3r",
      "execution_count": 2,
      "outputs": [
        {
          "output_type": "stream",
          "name": "stdout",
          "text": [
            "Mounted at /content/drive\n"
          ]
        }
      ]
    },
    {
      "cell_type": "markdown",
      "source": [
        "## Preprocess FoodSeg103"
      ],
      "metadata": {
        "id": "uJA_3HHnYFXB"
      },
      "id": "uJA_3HHnYFXB"
    },
    {
      "cell_type": "code",
      "source": [
        "import os\n",
        "import json\n",
        "import base64\n",
        "import zlib\n",
        "import cv2\n",
        "\n",
        "from PIL import Image\n",
        "from io import BytesIO\n",
        "import numpy as np\n",
        "from tqdm import tqdm\n",
        "\n",
        "def get_class_and_tag_id_mapping(meta_dir: str):\n",
        "    with open(meta_dir, 'r') as file:\n",
        "        meta_data = json.load(file)\n",
        "\n",
        "    class_mapping = {}\n",
        "    tag_mapping = {}\n",
        "    count = 1\n",
        "    for meta_cls in meta_data['classes']:\n",
        "        class_mapping[meta_cls[\"id\"]] = {\"id\": count, \"name\": meta_cls[\"title\"]}\n",
        "        count += 1\n",
        "\n",
        "    for meta_tags in meta_data['tags']:\n",
        "        tag_mapping[meta_tags[\"id\"]] = {\"id\": count, \"name\": meta_tags[\"name\"]}\n",
        "        count += 1\n",
        "\n",
        "    return class_mapping, tag_mapping"
      ],
      "metadata": {
        "id": "bUgHVLVy2oMY"
      },
      "id": "bUgHVLVy2oMY",
      "execution_count": 19,
      "outputs": []
    },
    {
      "cell_type": "code",
      "source": [
        "def decode_bitmap(bitmap_data, origin, size):\n",
        "    compressed_data = base64.b64decode(bitmap_data)\n",
        "    decoded = zlib.decompress(compressed_data)\n",
        "    mask_img = Image.open(BytesIO(decoded)).convert(\"L\")\n",
        "    full_mask = Image.new(\"L\", size, 0)\n",
        "    full_mask.paste(mask_img, tuple(origin))\n",
        "    return np.array(full_mask, dtype=np.uint8)\n",
        "\n",
        "def extract_bbox(mask):\n",
        "    pos = np.where(mask)\n",
        "    if pos[0].size == 0 or pos[1].size == 0:\n",
        "        print('No bbox')\n",
        "        return None\n",
        "    xmin = int(np.min(pos[1]))\n",
        "    xmax = int(np.max(pos[1]))\n",
        "    ymin = int(np.min(pos[0]))\n",
        "    ymax = int(np.max(pos[0]))\n",
        "    return [xmin, ymin, xmax - xmin, ymax - ymin]\n",
        "\n",
        "def mask_to_coco_polygons(mask):\n",
        "    contours, _ = cv2.findContours(mask, cv2.RETR_EXTERNAL, cv2.CHAIN_APPROX_SIMPLE)\n",
        "    polygons = []\n",
        "    for contour in contours:\n",
        "        contour = contour.flatten().tolist()\n",
        "        if len(contour) >= 6:  # at least 3 points\n",
        "            polygons.append(contour)\n",
        "        else:\n",
        "            print(\"Contour length: \", len(contour))\n",
        "    if not polygons:\n",
        "        print('No polygons')\n",
        "    return polygons\n",
        "\n",
        "\n",
        "def convert_annotations(input_dir, class_id_mapping, tag_id_mapping):\n",
        "    coco = {\n",
        "        \"images\": [],\n",
        "        \"annotations\": [],\n",
        "        \"categories\": []\n",
        "    }\n",
        "\n",
        "    class_id_map = {}\n",
        "    annotation_id = 1\n",
        "\n",
        "    for filename in tqdm(os.listdir(input_dir + '/ann')):\n",
        "        if not filename.endswith(\".json\"):\n",
        "            continue\n",
        "\n",
        "        ann_path = os.path.join(input_dir, f'ann/{filename}')\n",
        "        image_path = os.path.join(input_dir, f'img/{filename.replace(\".json\", \"\")}')\n",
        "\n",
        "        if not os.path.exists(image_path):\n",
        "            continue\n",
        "\n",
        "        with open(ann_path) as f:\n",
        "            ann_data = json.load(f)\n",
        "\n",
        "        width = ann_data[\"size\"][\"width\"]\n",
        "        height = ann_data[\"size\"][\"height\"]\n",
        "\n",
        "        coco[\"images\"].append({\n",
        "            \"id\": int(filename.replace(\".jpg\", \"\").replace(\".json\", \"\")),\n",
        "            \"file_name\": filename.replace(\".json\", \"\"),\n",
        "            \"width\": width,\n",
        "            \"height\": height\n",
        "        })\n",
        "\n",
        "        for obj in ann_data.get(\"objects\", []):\n",
        "            if obj[\"geometryType\"] != \"bitmap\":\n",
        "                continue\n",
        "\n",
        "            category_id = class_id_mapping[obj[\"classId\"]][\"id\"]\n",
        "\n",
        "            bitmap = obj[\"bitmap\"]\n",
        "            mask = decode_bitmap(bitmap[\"data\"], bitmap[\"origin\"], (width, height))\n",
        "            bbox = extract_bbox(mask)\n",
        "            polygons = mask_to_coco_polygons(mask)\n",
        "\n",
        "            if polygons == []:\n",
        "                continue\n",
        "\n",
        "            coco[\"annotations\"].append({\n",
        "                \"id\": annotation_id,\n",
        "                \"image_id\": int(filename.replace(\".json\", \"\").replace(\".jpg\", \"\")),\n",
        "                \"category_id\": category_id,\n",
        "                \"bbox\": bbox,\n",
        "                \"area\": int(np.sum(mask > 0)),\n",
        "                \"iscrowd\": 0,\n",
        "                \"segmentation\": polygons\n",
        "            })\n",
        "\n",
        "            annotation_id += 1\n",
        "\n",
        "            # Write categories if not there\n",
        "\n",
        "            curr_cat = {\n",
        "                \"id\": category_id,\n",
        "                \"name\": class_id_mapping[obj[\"classId\"]][\"name\"],\n",
        "                \"supercategory_id\": tag_id_mapping[obj[\"tags\"][0][\"tagId\"]][\"id\"],\n",
        "                \"supercategory\": tag_id_mapping[obj[\"tags\"][0][\"tagId\"]][\"name\"]\n",
        "            }\n",
        "\n",
        "            if curr_cat not in coco[\"categories\"]:\n",
        "              coco[\"categories\"].append(curr_cat)\n",
        "\n",
        "    return coco\n",
        "\n",
        "\n",
        "# Main\n",
        "if __name__ == \"__main__\":\n",
        "\n",
        "    meta_dir = \"/content/drive/MyDrive/foodseg103/meta.json\"\n",
        "\n",
        "    class_id_mapping, tag_id_mapping = get_class_and_tag_id_mapping(meta_dir)\n",
        "\n",
        "    train_input_dir = \"/content/drive/MyDrive/foodseg103/train\"\n",
        "    test_input_dir = \"/content/drive/MyDrive/foodseg103/test\"\n",
        "\n",
        "    train_output_path = \"/content/drive/MyDrive/foodseg103/train.json\"\n",
        "    test_output_path = \"/content/drive/MyDrive/foodseg103/test.json\"\n",
        "\n",
        "    train_formatted_ann_data = convert_annotations(train_input_dir, class_id_mapping, tag_id_mapping)\n",
        "    test_formatted_ann_data = convert_annotations(test_input_dir, class_id_mapping, tag_id_mapping)\n",
        "\n",
        "    with open(train_output_path, \"w\") as f:\n",
        "        json.dump(train_formatted_ann_data, f)\n",
        "\n",
        "    with open(test_output_path, \"w\") as f:\n",
        "        json.dump(test_formatted_ann_data, f)\n",
        "\n",
        "    print(f\"✅ COCO annotations saved to: {train_output_path} and {test_output_path}\")"
      ],
      "metadata": {
        "id": "VaUmJ23JYJPd",
        "outputId": "3268e07f-6c23-44f1-8d11-0d11e64df628",
        "colab": {
          "base_uri": "https://localhost:8080/"
        }
      },
      "id": "VaUmJ23JYJPd",
      "execution_count": 20,
      "outputs": [
        {
          "output_type": "stream",
          "name": "stderr",
          "text": [
            "  0%|          | 9/4983 [00:00<03:04, 26.90it/s]"
          ]
        },
        {
          "output_type": "stream",
          "name": "stdout",
          "text": [
            "Contour length:  2\n",
            "Contour length:  2\n"
          ]
        },
        {
          "output_type": "stream",
          "name": "stderr",
          "text": [
            "  1%|          | 32/4983 [00:01<02:06, 39.02it/s]"
          ]
        },
        {
          "output_type": "stream",
          "name": "stdout",
          "text": [
            "Contour length:  2\n"
          ]
        },
        {
          "output_type": "stream",
          "name": "stderr",
          "text": [
            "  1%|          | 59/4983 [00:43<2:01:01,  1.47s/it]"
          ]
        },
        {
          "output_type": "stream",
          "name": "stdout",
          "text": [
            "Contour length:  2\n",
            "Contour length:  4\n"
          ]
        },
        {
          "output_type": "stream",
          "name": "stderr",
          "text": [
            "  3%|▎         | 134/4983 [00:47<05:57, 13.58it/s]"
          ]
        },
        {
          "output_type": "stream",
          "name": "stdout",
          "text": [
            "Contour length:  2\n",
            "Contour length:  2\n"
          ]
        },
        {
          "output_type": "stream",
          "name": "stderr",
          "text": [
            "  4%|▍         | 187/4983 [00:50<03:14, 24.69it/s]"
          ]
        },
        {
          "output_type": "stream",
          "name": "stdout",
          "text": [
            "Contour length:  2\n"
          ]
        },
        {
          "output_type": "stream",
          "name": "stderr",
          "text": [
            "  8%|▊         | 378/4983 [00:57<02:40, 28.66it/s]"
          ]
        },
        {
          "output_type": "stream",
          "name": "stdout",
          "text": [
            "Contour length:  2\n"
          ]
        },
        {
          "output_type": "stream",
          "name": "stderr",
          "text": [
            " 12%|█▏        | 616/4983 [01:07<03:19, 21.90it/s]"
          ]
        },
        {
          "output_type": "stream",
          "name": "stdout",
          "text": [
            "Contour length:  4\n"
          ]
        },
        {
          "output_type": "stream",
          "name": "stderr",
          "text": [
            " 13%|█▎        | 628/4983 [01:08<02:23, 30.27it/s]"
          ]
        },
        {
          "output_type": "stream",
          "name": "stdout",
          "text": [
            "Contour length:  2\n"
          ]
        },
        {
          "output_type": "stream",
          "name": "stderr",
          "text": [
            " 17%|█▋        | 870/4983 [01:16<01:30, 45.23it/s]"
          ]
        },
        {
          "output_type": "stream",
          "name": "stdout",
          "text": [
            "Contour length:  4\n"
          ]
        },
        {
          "output_type": "stream",
          "name": "stderr",
          "text": [
            " 19%|█▉        | 936/4983 [01:19<01:45, 38.26it/s]"
          ]
        },
        {
          "output_type": "stream",
          "name": "stdout",
          "text": [
            "Contour length:  2\n",
            "Contour length:  4\n",
            "Contour length:  2\n"
          ]
        },
        {
          "output_type": "stream",
          "name": "stderr",
          "text": [
            " 20%|█▉        | 996/4983 [01:22<02:56, 22.64it/s]"
          ]
        },
        {
          "output_type": "stream",
          "name": "stdout",
          "text": [
            "Contour length:  2\n",
            "Contour length:  4\n",
            "Contour length:  2\n"
          ]
        },
        {
          "output_type": "stream",
          "name": "stderr",
          "text": [
            " 22%|██▏       | 1085/4983 [01:25<01:51, 35.10it/s]"
          ]
        },
        {
          "output_type": "stream",
          "name": "stdout",
          "text": [
            "Contour length:  2\n"
          ]
        },
        {
          "output_type": "stream",
          "name": "stderr",
          "text": [
            "\r 22%|██▏       | 1090/4983 [01:25<03:13, 20.17it/s]"
          ]
        },
        {
          "output_type": "stream",
          "name": "stdout",
          "text": [
            "Contour length:  2\n"
          ]
        },
        {
          "output_type": "stream",
          "name": "stderr",
          "text": [
            " 24%|██▍       | 1184/4983 [01:29<02:22, 26.73it/s]"
          ]
        },
        {
          "output_type": "stream",
          "name": "stdout",
          "text": [
            "Contour length:  2\n",
            "No polygons\n"
          ]
        },
        {
          "output_type": "stream",
          "name": "stderr",
          "text": [
            " 24%|██▍       | 1195/4983 [01:30<02:56, 21.52it/s]"
          ]
        },
        {
          "output_type": "stream",
          "name": "stdout",
          "text": [
            "Contour length:  2\n"
          ]
        },
        {
          "output_type": "stream",
          "name": "stderr",
          "text": [
            " 26%|██▌       | 1284/4983 [01:34<01:27, 42.25it/s]"
          ]
        },
        {
          "output_type": "stream",
          "name": "stdout",
          "text": [
            "Contour length:  2\n"
          ]
        },
        {
          "output_type": "stream",
          "name": "stderr",
          "text": [
            " 26%|██▌       | 1293/4983 [01:35<02:45, 22.29it/s]"
          ]
        },
        {
          "output_type": "stream",
          "name": "stdout",
          "text": [
            "Contour length:  2\n",
            "Contour length:  2\n"
          ]
        },
        {
          "output_type": "stream",
          "name": "stderr",
          "text": [
            " 27%|██▋       | 1353/4983 [01:37<02:03, 29.43it/s]"
          ]
        },
        {
          "output_type": "stream",
          "name": "stdout",
          "text": [
            "Contour length:  2\n"
          ]
        },
        {
          "output_type": "stream",
          "name": "stderr",
          "text": [
            " 28%|██▊       | 1415/4983 [01:40<01:56, 30.58it/s]"
          ]
        },
        {
          "output_type": "stream",
          "name": "stdout",
          "text": [
            "Contour length:  4\n"
          ]
        },
        {
          "output_type": "stream",
          "name": "stderr",
          "text": [
            " 31%|███▏      | 1561/4983 [01:46<01:29, 38.38it/s]"
          ]
        },
        {
          "output_type": "stream",
          "name": "stdout",
          "text": [
            "Contour length:  2\n"
          ]
        },
        {
          "output_type": "stream",
          "name": "stderr",
          "text": [
            " 32%|███▏      | 1594/4983 [01:48<01:42, 33.17it/s]"
          ]
        },
        {
          "output_type": "stream",
          "name": "stdout",
          "text": [
            "Contour length:  2\n",
            "Contour length:  2\n"
          ]
        },
        {
          "output_type": "stream",
          "name": "stderr",
          "text": [
            " 34%|███▍      | 1689/4983 [01:51<01:14, 44.17it/s]"
          ]
        },
        {
          "output_type": "stream",
          "name": "stdout",
          "text": [
            "Contour length:  4\n",
            "Contour length:  4\n",
            "Contour length:  2\n"
          ]
        },
        {
          "output_type": "stream",
          "name": "stderr",
          "text": [
            " 35%|███▍      | 1736/4983 [01:52<01:15, 43.28it/s]"
          ]
        },
        {
          "output_type": "stream",
          "name": "stdout",
          "text": [
            "Contour length:  2\n",
            "Contour length:  2\n"
          ]
        },
        {
          "output_type": "stream",
          "name": "stderr",
          "text": [
            " 36%|███▌      | 1785/4983 [01:54<01:52, 28.55it/s]"
          ]
        },
        {
          "output_type": "stream",
          "name": "stdout",
          "text": [
            "Contour length:  2\n"
          ]
        },
        {
          "output_type": "stream",
          "name": "stderr",
          "text": [
            " 39%|███▉      | 1941/4983 [02:00<02:08, 23.76it/s]"
          ]
        },
        {
          "output_type": "stream",
          "name": "stdout",
          "text": [
            "Contour length:  2\n",
            "Contour length:  2\n"
          ]
        },
        {
          "output_type": "stream",
          "name": "stderr",
          "text": [
            " 40%|███▉      | 1978/4983 [02:02<02:08, 23.44it/s]"
          ]
        },
        {
          "output_type": "stream",
          "name": "stdout",
          "text": [
            "Contour length:  4\n"
          ]
        },
        {
          "output_type": "stream",
          "name": "stderr",
          "text": [
            " 41%|████▏     | 2057/4983 [02:05<01:14, 39.14it/s]"
          ]
        },
        {
          "output_type": "stream",
          "name": "stdout",
          "text": [
            "Contour length:  2\n"
          ]
        },
        {
          "output_type": "stream",
          "name": "stderr",
          "text": [
            " 42%|████▏     | 2080/4983 [02:05<01:02, 46.16it/s]"
          ]
        },
        {
          "output_type": "stream",
          "name": "stdout",
          "text": [
            "Contour length:  2\n"
          ]
        },
        {
          "output_type": "stream",
          "name": "stderr",
          "text": [
            " 45%|████▍     | 2229/4983 [02:11<02:05, 21.87it/s]"
          ]
        },
        {
          "output_type": "stream",
          "name": "stdout",
          "text": [
            "Contour length:  4\n"
          ]
        },
        {
          "output_type": "stream",
          "name": "stderr",
          "text": [
            " 46%|████▌     | 2287/4983 [02:14<01:33, 28.87it/s]"
          ]
        },
        {
          "output_type": "stream",
          "name": "stdout",
          "text": [
            "Contour length:  2\n",
            "Contour length:  2\n",
            "Contour length:  4\n",
            "Contour length:  2\n"
          ]
        },
        {
          "output_type": "stream",
          "name": "stderr",
          "text": [
            " 47%|████▋     | 2333/4983 [02:15<01:21, 32.68it/s]"
          ]
        },
        {
          "output_type": "stream",
          "name": "stdout",
          "text": [
            "Contour length:  2\n"
          ]
        },
        {
          "output_type": "stream",
          "name": "stderr",
          "text": [
            " 48%|████▊     | 2375/4983 [02:17<01:49, 23.81it/s]"
          ]
        },
        {
          "output_type": "stream",
          "name": "stdout",
          "text": [
            "Contour length:  4\n",
            "Contour length:  2\n"
          ]
        },
        {
          "output_type": "stream",
          "name": "stderr",
          "text": [
            " 48%|████▊     | 2405/4983 [02:18<01:16, 33.56it/s]"
          ]
        },
        {
          "output_type": "stream",
          "name": "stdout",
          "text": [
            "Contour length:  4\n",
            "Contour length:  2\n"
          ]
        },
        {
          "output_type": "stream",
          "name": "stderr",
          "text": [
            " 49%|████▊     | 2419/4983 [02:19<01:34, 27.02it/s]"
          ]
        },
        {
          "output_type": "stream",
          "name": "stdout",
          "text": [
            "Contour length:  2\n"
          ]
        },
        {
          "output_type": "stream",
          "name": "stderr",
          "text": [
            " 50%|█████     | 2511/4983 [02:22<00:57, 42.92it/s]"
          ]
        },
        {
          "output_type": "stream",
          "name": "stdout",
          "text": [
            "Contour length:  2\n"
          ]
        },
        {
          "output_type": "stream",
          "name": "stderr",
          "text": [
            " 52%|█████▏    | 2587/4983 [02:24<01:02, 38.27it/s]"
          ]
        },
        {
          "output_type": "stream",
          "name": "stdout",
          "text": [
            "Contour length:  4\n"
          ]
        },
        {
          "output_type": "stream",
          "name": "stderr",
          "text": [
            " 53%|█████▎    | 2654/4983 [02:26<00:51, 44.99it/s]"
          ]
        },
        {
          "output_type": "stream",
          "name": "stdout",
          "text": [
            "Contour length:  2\n"
          ]
        },
        {
          "output_type": "stream",
          "name": "stderr",
          "text": [
            " 54%|█████▎    | 2677/4983 [02:26<00:45, 51.16it/s]"
          ]
        },
        {
          "output_type": "stream",
          "name": "stdout",
          "text": [
            "Contour length:  2\n",
            "Contour length:  2\n"
          ]
        },
        {
          "output_type": "stream",
          "name": "stderr",
          "text": [
            " 56%|█████▋    | 2806/4983 [02:33<01:10, 30.77it/s]"
          ]
        },
        {
          "output_type": "stream",
          "name": "stdout",
          "text": [
            "Contour length:  2\n"
          ]
        },
        {
          "output_type": "stream",
          "name": "stderr",
          "text": [
            " 57%|█████▋    | 2865/4983 [02:35<00:40, 52.10it/s]"
          ]
        },
        {
          "output_type": "stream",
          "name": "stdout",
          "text": [
            "Contour length:  4\n",
            "Contour length:  4\n"
          ]
        },
        {
          "output_type": "stream",
          "name": "stderr",
          "text": [
            " 63%|██████▎   | 3120/4983 [02:46<01:17, 24.10it/s]"
          ]
        },
        {
          "output_type": "stream",
          "name": "stdout",
          "text": [
            "Contour length:  4\n",
            "Contour length:  2\n"
          ]
        },
        {
          "output_type": "stream",
          "name": "stderr",
          "text": [
            " 64%|██████▎   | 3165/4983 [02:47<00:33, 54.71it/s]"
          ]
        },
        {
          "output_type": "stream",
          "name": "stdout",
          "text": [
            "Contour length:  2\n"
          ]
        },
        {
          "output_type": "stream",
          "name": "stderr",
          "text": [
            " 66%|██████▌   | 3270/4983 [02:51<00:41, 41.46it/s]"
          ]
        },
        {
          "output_type": "stream",
          "name": "stdout",
          "text": [
            "Contour length:  2\n"
          ]
        },
        {
          "output_type": "stream",
          "name": "stderr",
          "text": [
            " 66%|██████▌   | 3285/4983 [02:52<01:21, 20.91it/s]"
          ]
        },
        {
          "output_type": "stream",
          "name": "stdout",
          "text": [
            "Contour length:  2\n"
          ]
        },
        {
          "output_type": "stream",
          "name": "stderr",
          "text": [
            " 67%|██████▋   | 3315/4983 [02:54<01:26, 19.31it/s]"
          ]
        },
        {
          "output_type": "stream",
          "name": "stdout",
          "text": [
            "Contour length:  2\n"
          ]
        },
        {
          "output_type": "stream",
          "name": "stderr",
          "text": [
            " 67%|██████▋   | 3351/4983 [02:56<01:17, 21.11it/s]"
          ]
        },
        {
          "output_type": "stream",
          "name": "stdout",
          "text": [
            "Contour length:  2\n"
          ]
        },
        {
          "output_type": "stream",
          "name": "stderr",
          "text": [
            " 68%|██████▊   | 3405/4983 [03:00<02:14, 11.76it/s]"
          ]
        },
        {
          "output_type": "stream",
          "name": "stdout",
          "text": [
            "Contour length:  2\n"
          ]
        },
        {
          "output_type": "stream",
          "name": "stderr",
          "text": [
            " 69%|██████▉   | 3449/4983 [03:03<01:53, 13.48it/s]"
          ]
        },
        {
          "output_type": "stream",
          "name": "stdout",
          "text": [
            "Contour length:  4\n",
            "Contour length:  2\n",
            "Contour length:  4\n",
            "Contour length:  4\n",
            "Contour length:  4\n"
          ]
        },
        {
          "output_type": "stream",
          "name": "stderr",
          "text": [
            " 71%|███████   | 3546/4983 [03:08<01:29, 16.13it/s]"
          ]
        },
        {
          "output_type": "stream",
          "name": "stdout",
          "text": [
            "Contour length:  2\n"
          ]
        },
        {
          "output_type": "stream",
          "name": "stderr",
          "text": [
            " 72%|███████▏  | 3594/4983 [03:11<01:01, 22.58it/s]"
          ]
        },
        {
          "output_type": "stream",
          "name": "stdout",
          "text": [
            "Contour length:  4\n",
            "Contour length:  4\n"
          ]
        },
        {
          "output_type": "stream",
          "name": "stderr",
          "text": [
            " 75%|███████▍  | 3718/4983 [03:17<00:47, 26.49it/s]"
          ]
        },
        {
          "output_type": "stream",
          "name": "stdout",
          "text": [
            "Contour length:  2\n"
          ]
        },
        {
          "output_type": "stream",
          "name": "stderr",
          "text": [
            " 75%|███████▌  | 3744/4983 [03:18<01:01, 20.24it/s]"
          ]
        },
        {
          "output_type": "stream",
          "name": "stdout",
          "text": [
            "Contour length:  4\n",
            "Contour length:  4\n"
          ]
        },
        {
          "output_type": "stream",
          "name": "stderr",
          "text": [
            " 75%|███████▌  | 3756/4983 [03:19<00:53, 22.92it/s]"
          ]
        },
        {
          "output_type": "stream",
          "name": "stdout",
          "text": [
            "Contour length:  2\n"
          ]
        },
        {
          "output_type": "stream",
          "name": "stderr",
          "text": [
            " 78%|███████▊  | 3886/4983 [03:25<00:37, 28.99it/s]"
          ]
        },
        {
          "output_type": "stream",
          "name": "stdout",
          "text": [
            "Contour length:  2\n"
          ]
        },
        {
          "output_type": "stream",
          "name": "stderr",
          "text": [
            " 80%|███████▉  | 3974/4983 [03:29<00:26, 37.51it/s]"
          ]
        },
        {
          "output_type": "stream",
          "name": "stdout",
          "text": [
            "Contour length:  4\n",
            "Contour length:  2\n"
          ]
        },
        {
          "output_type": "stream",
          "name": "stderr",
          "text": [
            " 82%|████████▏ | 4107/4983 [03:33<00:35, 24.36it/s]"
          ]
        },
        {
          "output_type": "stream",
          "name": "stdout",
          "text": [
            "Contour length:  2\n"
          ]
        },
        {
          "output_type": "stream",
          "name": "stderr",
          "text": [
            " 83%|████████▎ | 4128/4983 [03:34<00:24, 35.01it/s]"
          ]
        },
        {
          "output_type": "stream",
          "name": "stdout",
          "text": [
            "Contour length:  4\n",
            "No polygons\n"
          ]
        },
        {
          "output_type": "stream",
          "name": "stderr",
          "text": [
            " 84%|████████▍ | 4184/4983 [03:36<00:33, 23.58it/s]"
          ]
        },
        {
          "output_type": "stream",
          "name": "stdout",
          "text": [
            "Contour length:  4\n",
            "No polygons\n"
          ]
        },
        {
          "output_type": "stream",
          "name": "stderr",
          "text": [
            " 85%|████████▌ | 4256/4983 [03:38<00:23, 30.57it/s]"
          ]
        },
        {
          "output_type": "stream",
          "name": "stdout",
          "text": [
            "Contour length:  2\n"
          ]
        },
        {
          "output_type": "stream",
          "name": "stderr",
          "text": [
            " 88%|████████▊ | 4388/4983 [03:44<00:14, 40.18it/s]"
          ]
        },
        {
          "output_type": "stream",
          "name": "stdout",
          "text": [
            "Contour length:  2\n"
          ]
        },
        {
          "output_type": "stream",
          "name": "stderr",
          "text": [
            " 89%|████████▊ | 4415/4983 [03:45<00:16, 33.79it/s]"
          ]
        },
        {
          "output_type": "stream",
          "name": "stdout",
          "text": [
            "Contour length:  2\n"
          ]
        },
        {
          "output_type": "stream",
          "name": "stderr",
          "text": [
            " 89%|████████▉ | 4440/4983 [03:46<00:38, 14.05it/s]"
          ]
        },
        {
          "output_type": "stream",
          "name": "stdout",
          "text": [
            "Contour length:  2\n"
          ]
        },
        {
          "output_type": "stream",
          "name": "stderr",
          "text": [
            " 90%|████████▉ | 4477/4983 [03:48<00:21, 24.06it/s]"
          ]
        },
        {
          "output_type": "stream",
          "name": "stdout",
          "text": [
            "Contour length:  2\n"
          ]
        },
        {
          "output_type": "stream",
          "name": "stderr",
          "text": [
            " 91%|█████████ | 4535/4983 [03:50<00:13, 32.19it/s]"
          ]
        },
        {
          "output_type": "stream",
          "name": "stdout",
          "text": [
            "Contour length:  2\n"
          ]
        },
        {
          "output_type": "stream",
          "name": "stderr",
          "text": [
            " 92%|█████████▏| 4595/4983 [03:53<00:22, 17.57it/s]"
          ]
        },
        {
          "output_type": "stream",
          "name": "stdout",
          "text": [
            "Contour length:  2\n"
          ]
        },
        {
          "output_type": "stream",
          "name": "stderr",
          "text": [
            " 98%|█████████▊| 4902/4983 [04:06<00:02, 30.16it/s]"
          ]
        },
        {
          "output_type": "stream",
          "name": "stdout",
          "text": [
            "Contour length:  2\n",
            "Contour length:  4\n",
            "Contour length:  2\n"
          ]
        },
        {
          "output_type": "stream",
          "name": "stderr",
          "text": [
            " 99%|█████████▉| 4936/4983 [04:08<00:02, 18.00it/s]"
          ]
        },
        {
          "output_type": "stream",
          "name": "stdout",
          "text": [
            "Contour length:  4\n"
          ]
        },
        {
          "output_type": "stream",
          "name": "stderr",
          "text": [
            " 99%|█████████▉| 4953/4983 [04:09<00:01, 15.13it/s]"
          ]
        },
        {
          "output_type": "stream",
          "name": "stdout",
          "text": [
            "Contour length:  2\n"
          ]
        },
        {
          "output_type": "stream",
          "name": "stderr",
          "text": [
            "100%|██████████| 4983/4983 [04:11<00:00, 19.84it/s]\n",
            "  1%|          | 14/2135 [00:00<00:37, 56.82it/s]"
          ]
        },
        {
          "output_type": "stream",
          "name": "stdout",
          "text": [
            "Contour length:  2\n",
            "Contour length:  2\n",
            "Contour length:  2\n"
          ]
        },
        {
          "output_type": "stream",
          "name": "stderr",
          "text": [
            "  3%|▎         | 61/2135 [00:15<04:12,  8.22it/s]"
          ]
        },
        {
          "output_type": "stream",
          "name": "stdout",
          "text": [
            "Contour length:  2\n",
            "Contour length:  2\n"
          ]
        },
        {
          "output_type": "stream",
          "name": "stderr",
          "text": [
            "  6%|▌         | 122/2135 [00:16<00:40, 49.45it/s]"
          ]
        },
        {
          "output_type": "stream",
          "name": "stdout",
          "text": [
            "Contour length:  2\n",
            "Contour length:  4\n"
          ]
        },
        {
          "output_type": "stream",
          "name": "stderr",
          "text": [
            "  9%|▊         | 183/2135 [00:17<00:29, 66.88it/s]"
          ]
        },
        {
          "output_type": "stream",
          "name": "stdout",
          "text": [
            "Contour length:  2\n"
          ]
        },
        {
          "output_type": "stream",
          "name": "stderr",
          "text": [
            "  9%|▉         | 197/2135 [00:18<00:39, 49.52it/s]"
          ]
        },
        {
          "output_type": "stream",
          "name": "stdout",
          "text": [
            "Contour length:  2\n",
            "Contour length:  2\n"
          ]
        },
        {
          "output_type": "stream",
          "name": "stderr",
          "text": [
            " 11%|█         | 225/2135 [00:18<00:34, 54.89it/s]"
          ]
        },
        {
          "output_type": "stream",
          "name": "stdout",
          "text": [
            "Contour length:  4\n"
          ]
        },
        {
          "output_type": "stream",
          "name": "stderr",
          "text": [
            " 12%|█▏        | 259/2135 [00:19<00:31, 59.30it/s]"
          ]
        },
        {
          "output_type": "stream",
          "name": "stdout",
          "text": [
            "Contour length:  2\n"
          ]
        },
        {
          "output_type": "stream",
          "name": "stderr",
          "text": [
            " 13%|█▎        | 271/2135 [00:19<00:38, 48.42it/s]"
          ]
        },
        {
          "output_type": "stream",
          "name": "stdout",
          "text": [
            "Contour length:  2\n",
            "Contour length:  2\n",
            "Contour length:  4\n"
          ]
        },
        {
          "output_type": "stream",
          "name": "stderr",
          "text": [
            " 14%|█▍        | 309/2135 [00:20<00:32, 56.29it/s]"
          ]
        },
        {
          "output_type": "stream",
          "name": "stdout",
          "text": [
            "Contour length:  4\n",
            "Contour length:  4\n"
          ]
        },
        {
          "output_type": "stream",
          "name": "stderr",
          "text": [
            " 17%|█▋        | 355/2135 [00:21<00:34, 51.37it/s]"
          ]
        },
        {
          "output_type": "stream",
          "name": "stdout",
          "text": [
            "Contour length:  2\n"
          ]
        },
        {
          "output_type": "stream",
          "name": "stderr",
          "text": [
            " 20%|██        | 430/2135 [00:22<00:36, 47.01it/s]"
          ]
        },
        {
          "output_type": "stream",
          "name": "stdout",
          "text": [
            "Contour length:  2\n"
          ]
        },
        {
          "output_type": "stream",
          "name": "stderr",
          "text": [
            " 22%|██▏       | 462/2135 [00:23<00:38, 43.80it/s]"
          ]
        },
        {
          "output_type": "stream",
          "name": "stdout",
          "text": [
            "Contour length:  2\n",
            "Contour length:  2\n",
            "Contour length:  2\n",
            "Contour length:  2\n"
          ]
        },
        {
          "output_type": "stream",
          "name": "stderr",
          "text": [
            " 23%|██▎       | 501/2135 [00:24<00:33, 48.75it/s]"
          ]
        },
        {
          "output_type": "stream",
          "name": "stdout",
          "text": [
            "Contour length:  4\n"
          ]
        },
        {
          "output_type": "stream",
          "name": "stderr",
          "text": [
            " 26%|██▋       | 561/2135 [00:25<00:31, 50.62it/s]"
          ]
        },
        {
          "output_type": "stream",
          "name": "stdout",
          "text": [
            "Contour length:  2\n",
            "Contour length:  2\n",
            "Contour length:  2\n"
          ]
        },
        {
          "output_type": "stream",
          "name": "stderr",
          "text": [
            " 27%|██▋       | 582/2135 [00:26<00:28, 53.80it/s]"
          ]
        },
        {
          "output_type": "stream",
          "name": "stdout",
          "text": [
            "Contour length:  4\n",
            "Contour length:  2\n"
          ]
        },
        {
          "output_type": "stream",
          "name": "stderr",
          "text": [
            " 29%|██▉       | 622/2135 [00:26<00:21, 68.89it/s]"
          ]
        },
        {
          "output_type": "stream",
          "name": "stdout",
          "text": [
            "Contour length:  4\n",
            "Contour length:  2\n",
            "Contour length:  2\n"
          ]
        },
        {
          "output_type": "stream",
          "name": "stderr",
          "text": [
            " 31%|███       | 655/2135 [00:27<00:21, 69.58it/s]"
          ]
        },
        {
          "output_type": "stream",
          "name": "stdout",
          "text": [
            "Contour length:  2\n",
            "Contour length:  2\n"
          ]
        },
        {
          "output_type": "stream",
          "name": "stderr",
          "text": [
            " 31%|███▏      | 670/2135 [00:27<00:25, 57.29it/s]"
          ]
        },
        {
          "output_type": "stream",
          "name": "stdout",
          "text": [
            "Contour length:  2\n"
          ]
        },
        {
          "output_type": "stream",
          "name": "stderr",
          "text": [
            " 33%|███▎      | 704/2135 [00:28<00:28, 50.71it/s]"
          ]
        },
        {
          "output_type": "stream",
          "name": "stdout",
          "text": [
            "Contour length:  2\n",
            "Contour length:  2\n"
          ]
        },
        {
          "output_type": "stream",
          "name": "stderr",
          "text": [
            " 34%|███▍      | 729/2135 [00:28<00:24, 57.96it/s]"
          ]
        },
        {
          "output_type": "stream",
          "name": "stdout",
          "text": [
            "Contour length:  2\n",
            "Contour length:  2\n"
          ]
        },
        {
          "output_type": "stream",
          "name": "stderr",
          "text": [
            " 38%|███▊      | 809/2135 [00:30<00:20, 63.46it/s]"
          ]
        },
        {
          "output_type": "stream",
          "name": "stdout",
          "text": [
            "Contour length:  2\n"
          ]
        },
        {
          "output_type": "stream",
          "name": "stderr",
          "text": [
            " 39%|███▉      | 833/2135 [00:30<00:24, 54.00it/s]"
          ]
        },
        {
          "output_type": "stream",
          "name": "stdout",
          "text": [
            "Contour length:  2\n"
          ]
        },
        {
          "output_type": "stream",
          "name": "stderr",
          "text": [
            " 40%|███▉      | 852/2135 [00:30<00:25, 49.83it/s]"
          ]
        },
        {
          "output_type": "stream",
          "name": "stdout",
          "text": [
            "Contour length:  2\n",
            "Contour length:  2\n"
          ]
        },
        {
          "output_type": "stream",
          "name": "stderr",
          "text": [
            " 51%|█████     | 1079/2135 [00:35<00:19, 53.71it/s]"
          ]
        },
        {
          "output_type": "stream",
          "name": "stdout",
          "text": [
            "Contour length:  4\n",
            "Contour length:  4\n",
            "Contour length:  2\n",
            "Contour length:  4\n"
          ]
        },
        {
          "output_type": "stream",
          "name": "stderr",
          "text": [
            " 52%|█████▏    | 1102/2135 [00:35<00:16, 61.33it/s]"
          ]
        },
        {
          "output_type": "stream",
          "name": "stdout",
          "text": [
            "Contour length:  2\n",
            "Contour length:  2\n"
          ]
        },
        {
          "output_type": "stream",
          "name": "stderr",
          "text": [
            " 53%|█████▎    | 1130/2135 [00:35<00:18, 55.02it/s]"
          ]
        },
        {
          "output_type": "stream",
          "name": "stdout",
          "text": [
            "Contour length:  2\n"
          ]
        },
        {
          "output_type": "stream",
          "name": "stderr",
          "text": [
            " 55%|█████▌    | 1181/2135 [00:36<00:17, 54.81it/s]"
          ]
        },
        {
          "output_type": "stream",
          "name": "stdout",
          "text": [
            "Contour length:  2\n"
          ]
        },
        {
          "output_type": "stream",
          "name": "stderr",
          "text": [
            " 59%|█████▉    | 1266/2135 [00:38<00:18, 47.74it/s]"
          ]
        },
        {
          "output_type": "stream",
          "name": "stdout",
          "text": [
            "Contour length:  4\n",
            "No polygons\n"
          ]
        },
        {
          "output_type": "stream",
          "name": "stderr",
          "text": [
            " 60%|██████    | 1291/2135 [00:39<00:20, 41.80it/s]"
          ]
        },
        {
          "output_type": "stream",
          "name": "stdout",
          "text": [
            "Contour length:  2\n"
          ]
        },
        {
          "output_type": "stream",
          "name": "stderr",
          "text": [
            " 66%|██████▌   | 1409/2135 [00:41<00:10, 70.55it/s]"
          ]
        },
        {
          "output_type": "stream",
          "name": "stdout",
          "text": [
            "Contour length:  4\n"
          ]
        },
        {
          "output_type": "stream",
          "name": "stderr",
          "text": [
            " 67%|██████▋   | 1427/2135 [00:41<00:09, 75.20it/s]"
          ]
        },
        {
          "output_type": "stream",
          "name": "stdout",
          "text": [
            "Contour length:  2\n"
          ]
        },
        {
          "output_type": "stream",
          "name": "stderr",
          "text": [
            " 68%|██████▊   | 1458/2135 [00:42<00:12, 53.15it/s]"
          ]
        },
        {
          "output_type": "stream",
          "name": "stdout",
          "text": [
            "Contour length:  2\n",
            "Contour length:  2\n"
          ]
        },
        {
          "output_type": "stream",
          "name": "stderr",
          "text": [
            "\r 69%|██████▊   | 1464/2135 [00:42<00:14, 47.52it/s]"
          ]
        },
        {
          "output_type": "stream",
          "name": "stdout",
          "text": [
            "Contour length:  2\n",
            "Contour length:  4\n",
            "Contour length:  2\n",
            "Contour length:  2\n"
          ]
        },
        {
          "output_type": "stream",
          "name": "stderr",
          "text": [
            " 70%|██████▉   | 1485/2135 [00:42<00:11, 54.69it/s]"
          ]
        },
        {
          "output_type": "stream",
          "name": "stdout",
          "text": [
            "Contour length:  2\n",
            "Contour length:  2\n",
            "Contour length:  2\n",
            "Contour length:  2\n",
            "Contour length:  4\n",
            "Contour length:  4\n"
          ]
        },
        {
          "output_type": "stream",
          "name": "stderr",
          "text": [
            " 72%|███████▏  | 1542/2135 [00:43<00:08, 68.49it/s]"
          ]
        },
        {
          "output_type": "stream",
          "name": "stdout",
          "text": [
            "Contour length:  2\n"
          ]
        },
        {
          "output_type": "stream",
          "name": "stderr",
          "text": [
            " 77%|███████▋  | 1639/2135 [00:44<00:07, 67.87it/s]"
          ]
        },
        {
          "output_type": "stream",
          "name": "stdout",
          "text": [
            "Contour length:  2\n",
            "Contour length:  2\n"
          ]
        },
        {
          "output_type": "stream",
          "name": "stderr",
          "text": [
            " 78%|███████▊  | 1659/2135 [00:45<00:09, 49.38it/s]"
          ]
        },
        {
          "output_type": "stream",
          "name": "stdout",
          "text": [
            "Contour length:  4\n"
          ]
        },
        {
          "output_type": "stream",
          "name": "stderr",
          "text": [
            " 79%|███████▊  | 1678/2135 [00:45<00:08, 51.39it/s]"
          ]
        },
        {
          "output_type": "stream",
          "name": "stdout",
          "text": [
            "Contour length:  2\n",
            "Contour length:  2\n"
          ]
        },
        {
          "output_type": "stream",
          "name": "stderr",
          "text": [
            " 82%|████████▏ | 1758/2135 [00:47<00:07, 52.76it/s]"
          ]
        },
        {
          "output_type": "stream",
          "name": "stdout",
          "text": [
            "Contour length:  2\n",
            "Contour length:  2\n"
          ]
        },
        {
          "output_type": "stream",
          "name": "stderr",
          "text": [
            " 85%|████████▍ | 1806/2135 [00:47<00:05, 63.65it/s]"
          ]
        },
        {
          "output_type": "stream",
          "name": "stdout",
          "text": [
            "Contour length:  4\n"
          ]
        },
        {
          "output_type": "stream",
          "name": "stderr",
          "text": [
            " 85%|████████▌ | 1821/2135 [00:48<00:05, 58.93it/s]"
          ]
        },
        {
          "output_type": "stream",
          "name": "stdout",
          "text": [
            "Contour length:  2\n",
            "Contour length:  2\n"
          ]
        },
        {
          "output_type": "stream",
          "name": "stderr",
          "text": [
            " 87%|████████▋ | 1857/2135 [00:48<00:04, 62.22it/s]"
          ]
        },
        {
          "output_type": "stream",
          "name": "stdout",
          "text": [
            "Contour length:  2\n"
          ]
        },
        {
          "output_type": "stream",
          "name": "stderr",
          "text": [
            " 89%|████████▉ | 1906/2135 [00:49<00:03, 62.79it/s]"
          ]
        },
        {
          "output_type": "stream",
          "name": "stdout",
          "text": [
            "Contour length:  2\n",
            "Contour length:  2\n"
          ]
        },
        {
          "output_type": "stream",
          "name": "stderr",
          "text": [
            " 91%|█████████ | 1946/2135 [00:50<00:03, 53.27it/s]"
          ]
        },
        {
          "output_type": "stream",
          "name": "stdout",
          "text": [
            "Contour length:  2\n",
            "Contour length:  2\n",
            "Contour length:  2\n",
            "Contour length:  4\n"
          ]
        },
        {
          "output_type": "stream",
          "name": "stderr",
          "text": [
            " 94%|█████████▎| 2000/2135 [00:51<00:03, 41.18it/s]"
          ]
        },
        {
          "output_type": "stream",
          "name": "stdout",
          "text": [
            "Contour length:  2\n"
          ]
        },
        {
          "output_type": "stream",
          "name": "stderr",
          "text": [
            " 97%|█████████▋| 2067/2135 [00:52<00:01, 51.76it/s]"
          ]
        },
        {
          "output_type": "stream",
          "name": "stdout",
          "text": [
            "Contour length:  4\n"
          ]
        },
        {
          "output_type": "stream",
          "name": "stderr",
          "text": [
            "100%|██████████| 2135/2135 [00:54<00:00, 39.37it/s]\n"
          ]
        },
        {
          "output_type": "stream",
          "name": "stdout",
          "text": [
            "✅ COCO annotations saved to: /content/drive/MyDrive/foodseg103/train.json and /content/drive/MyDrive/foodseg103/test.json\n"
          ]
        }
      ]
    },
    {
      "cell_type": "code",
      "source": [
        "meta_dir = \"/content/drive/MyDrive/foodseg103/meta.json\"\n",
        "class_id_mapping, tag_id_mapping = get_class_and_tag_id_mapping(meta_dir)"
      ],
      "metadata": {
        "id": "vduyW8gu2k2Q"
      },
      "id": "vduyW8gu2k2Q",
      "execution_count": 3,
      "outputs": []
    },
    {
      "cell_type": "code",
      "source": [
        "import matplotlib.pyplot as plt\n",
        "import matplotlib.patches as patches\n",
        "from matplotlib.patches import Polygon\n",
        "from PIL import Image\n",
        "\n",
        "def draw_image_with_boxes(image_path, annotations, categories):\n",
        "    \"\"\"\n",
        "    Draws bounding boxes and category labels from COCO-style annotations.\n",
        "\n",
        "    Args:\n",
        "        image_path (str): Path to the image.\n",
        "        annotations (list): List of annotations with:\n",
        "            - bbox: [x, y, width, height]\n",
        "            - category_id: int\n",
        "            - segmentation: list of polygons (each polygon is a list of x,y coords)\n",
        "            - image_id: int\n",
        "        categories (list): List of dicts with 'id' and 'name' fields.\n",
        "                           e.g., [{\"id\": 1, \"name\": \"rice\"}, ...]\n",
        "    \"\"\"\n",
        "    # Build a mapping from category_id to name\n",
        "    category_id_to_name = {cat[\"id\"]: cat[\"name\"] for cat in categories}\n",
        "\n",
        "    # Load image\n",
        "    image = Image.open(image_path).convert(\"RGB\")\n",
        "    filename = os.path.splitext(os.path.basename(image_path))[0]\n",
        "    plt.figure(figsize=(8, 8))\n",
        "    plt.imshow(image)\n",
        "    ax = plt.gca()\n",
        "\n",
        "    for ann in annotations:\n",
        "        if ann[\"image_id\"] != int(filename):\n",
        "          continue\n",
        "        bbox = ann[\"bbox\"]\n",
        "        category_id = ann[\"category_id\"]\n",
        "        label = category_id_to_name.get(category_id, f\"ID {category_id}\")\n",
        "\n",
        "        # Draw rectangle\n",
        "        rect = patches.Rectangle(\n",
        "            (bbox[0], bbox[1]), bbox[2], bbox[3],\n",
        "            linewidth=2, edgecolor='red', facecolor='none'\n",
        "        )\n",
        "        ax.add_patch(rect)\n",
        "\n",
        "        # Draw label\n",
        "        ax.text(bbox[0], bbox[1] - 5, label,\n",
        "                color='white', backgroundcolor='red', fontsize=10)\n",
        "\n",
        "        # Draw polygon masks\n",
        "        if \"segmentation\" in ann:\n",
        "            segmentations = ann[\"segmentation\"]\n",
        "            # COCO segmentation can be a list of polygons or a single polygon list\n",
        "            # Ensure it's a list of polygons\n",
        "            print(len(segmentations))\n",
        "            print(segmentations)\n",
        "            if isinstance(segmentations[0], list):\n",
        "                polygons = segmentations\n",
        "            else:\n",
        "                polygons = [segmentations]\n",
        "\n",
        "            for poly in polygons:\n",
        "                # poly is a flat list: [x1, y1, x2, y2, ..., xn, yn]\n",
        "                # Convert to Nx2 array of points\n",
        "                poly_points = [(poly[i], poly[i+1]) for i in range(0, len(poly), 2)]\n",
        "                polygon_patch = Polygon(poly_points, closed=True, linewidth=1,\n",
        "                                        edgecolor='yellow', facecolor='yellow', alpha=0.4)\n",
        "                ax.add_patch(polygon_patch)\n",
        "\n",
        "    plt.axis(\"off\")\n",
        "    plt.tight_layout()\n",
        "    plt.show()\n"
      ],
      "metadata": {
        "id": "SiPpd5_Hjahv"
      },
      "id": "SiPpd5_Hjahv",
      "execution_count": 16,
      "outputs": []
    },
    {
      "cell_type": "code",
      "source": [
        "with open(\"/content/drive/MyDrive/foodseg103/train.json\", 'r') as f:\n",
        "    train_formatted_ann_data = json.load(f)"
      ],
      "metadata": {
        "id": "C9zJxxzfGGRp"
      },
      "id": "C9zJxxzfGGRp",
      "execution_count": 17,
      "outputs": []
    },
    {
      "cell_type": "code",
      "source": [
        "draw_image_with_boxes(\n",
        "    \"/content/drive/MyDrive/foodseg103/train/img/00001080.jpg\",\n",
        "    train_formatted_ann_data[\"annotations\"],\n",
        "    train_formatted_ann_data[\"categories\"])"
      ],
      "metadata": {
        "id": "ZFkPFBKPk9VR",
        "outputId": "9f8718e3-b94d-4700-8740-278575b8cee2",
        "colab": {
          "base_uri": "https://localhost:8080/",
          "height": 936
        }
      },
      "id": "ZFkPFBKPk9VR",
      "execution_count": 26,
      "outputs": [
        {
          "output_type": "stream",
          "name": "stdout",
          "text": [
            "1\n",
            "[[98, 78, 97, 79, 94, 79, 93, 80, 92, 80, 91, 81, 90, 81, 87, 84, 86, 84, 85, 85, 85, 86, 82, 89, 82, 90, 81, 91, 81, 92, 80, 93, 80, 96, 79, 97, 79, 98, 78, 99, 78, 100, 77, 101, 77, 104, 75, 106, 75, 107, 73, 109, 72, 108, 72, 107, 71, 106, 71, 105, 70, 104, 70, 102, 69, 101, 69, 99, 68, 98, 68, 97, 67, 96, 67, 94, 66, 93, 66, 92, 64, 90, 64, 89, 63, 88, 62, 88, 60, 90, 59, 90, 58, 91, 58, 92, 57, 93, 57, 94, 56, 95, 56, 96, 55, 97, 55, 98, 54, 99, 54, 101, 53, 102, 53, 105, 52, 106, 52, 109, 51, 110, 51, 115, 50, 116, 50, 118, 67, 118, 68, 119, 75, 119, 76, 120, 79, 120, 80, 121, 83, 121, 84, 122, 85, 122, 86, 123, 88, 123, 89, 124, 91, 124, 92, 125, 93, 125, 94, 126, 96, 126, 97, 127, 98, 127, 99, 128, 99, 129, 97, 131, 96, 131, 95, 132, 94, 132, 92, 134, 91, 134, 90, 135, 89, 135, 88, 136, 87, 136, 86, 137, 86, 138, 85, 139, 85, 146, 84, 147, 83, 147, 83, 148, 84, 149, 84, 152, 85, 153, 85, 156, 86, 157, 86, 158, 87, 159, 87, 160, 88, 161, 88, 162, 89, 163, 90, 163, 91, 164, 92, 164, 93, 165, 94, 165, 95, 166, 110, 166, 111, 165, 114, 165, 116, 163, 117, 164, 117, 167, 118, 168, 118, 169, 119, 169, 120, 168, 121, 168, 123, 170, 123, 171, 126, 174, 128, 174, 129, 175, 131, 175, 132, 174, 133, 174, 134, 173, 135, 173, 136, 172, 136, 171, 137, 170, 137, 169, 138, 168, 138, 167, 139, 166, 144, 166, 144, 162, 145, 161, 145, 156, 144, 155, 144, 153, 142, 151, 142, 150, 139, 147, 138, 147, 137, 146, 132, 146, 130, 144, 129, 144, 126, 141, 125, 142, 124, 142, 124, 143, 123, 144, 122, 143, 122, 142, 121, 141, 121, 139, 119, 137, 119, 136, 118, 135, 117, 135, 116, 134, 115, 134, 114, 133, 114, 131, 115, 130, 115, 129, 117, 127, 117, 126, 118, 125, 118, 124, 119, 123, 119, 122, 120, 121, 120, 119, 121, 118, 121, 116, 122, 115, 122, 110, 123, 109, 123, 103, 122, 102, 122, 98, 121, 97, 121, 95, 120, 94, 120, 93, 119, 92, 119, 91, 118, 90, 118, 89, 111, 82, 110, 82, 108, 80, 107, 80, 106, 79, 104, 79, 103, 78]]\n",
            "1\n",
            "[[134, 47, 136, 49, 136, 51, 135, 52, 132, 52, 131, 53, 130, 53, 129, 54, 128, 54, 122, 60, 122, 61, 121, 62, 121, 63, 119, 65, 116, 62, 116, 61, 114, 59, 114, 58, 113, 57, 112, 58, 112, 59, 113, 60, 113, 61, 114, 62, 114, 63, 116, 65, 115, 66, 114, 66, 113, 65, 112, 65, 111, 66, 110, 66, 109, 67, 107, 67, 106, 68, 104, 68, 103, 69, 102, 69, 100, 71, 100, 74, 99, 75, 99, 76, 98, 77, 103, 77, 104, 78, 106, 78, 107, 79, 108, 79, 110, 81, 111, 81, 119, 89, 119, 90, 120, 91, 120, 92, 121, 93, 121, 94, 122, 95, 122, 97, 123, 98, 123, 102, 124, 103, 124, 109, 123, 110, 123, 114, 125, 114, 126, 113, 129, 113, 131, 115, 131, 117, 132, 118, 132, 119, 133, 120, 133, 121, 134, 122, 135, 121, 136, 121, 137, 122, 142, 122, 143, 121, 147, 121, 148, 120, 150, 120, 151, 119, 152, 119, 153, 118, 156, 118, 157, 117, 160, 117, 161, 118, 162, 118, 163, 119, 164, 119, 165, 120, 166, 119, 167, 119, 172, 114, 172, 113, 173, 112, 173, 111, 175, 109, 177, 109, 178, 110, 178, 111, 177, 112, 177, 115, 176, 116, 176, 119, 178, 121, 178, 122, 184, 128, 185, 128, 186, 129, 187, 129, 189, 131, 190, 131, 191, 132, 193, 132, 194, 133, 197, 133, 198, 132, 199, 132, 199, 78, 198, 77, 196, 77, 195, 78, 191, 78, 189, 76, 189, 75, 184, 70, 184, 69, 182, 67, 181, 67, 180, 66, 178, 66, 177, 65, 176, 65, 175, 64, 175, 61, 174, 60, 174, 58, 174, 61, 173, 62, 173, 64, 172, 65, 171, 65, 170, 64, 170, 63, 169, 62, 169, 61, 168, 60, 168, 59, 166, 57, 166, 56, 165, 55, 165, 54, 164, 53, 163, 53, 163, 54, 164, 55, 164, 56, 165, 57, 165, 58, 166, 59, 166, 61, 164, 63, 164, 65, 165, 66, 164, 67, 162, 67, 160, 69, 157, 69, 155, 67, 155, 66, 154, 65, 154, 64, 153, 63, 153, 60, 154, 59, 154, 57, 155, 56, 155, 54, 154, 53, 154, 52, 153, 51, 153, 50, 153, 52, 151, 54, 148, 54, 147, 55, 146, 55, 145, 54, 143, 54, 142, 53, 141, 53, 140, 52, 139, 52, 138, 51, 138, 50, 136, 48, 135, 48]]\n",
            "2\n",
            "[[175, 110, 174, 111, 174, 112, 173, 113, 173, 114, 167, 120, 166, 120, 165, 121, 164, 120, 163, 120, 162, 119, 161, 119, 160, 118, 157, 118, 156, 119, 153, 119, 152, 120, 151, 120, 150, 121, 148, 121, 147, 122, 143, 122, 142, 123, 137, 123, 136, 122, 135, 122, 134, 123, 134, 125, 133, 126, 132, 126, 131, 127, 130, 127, 129, 128, 127, 128, 126, 129, 125, 129, 124, 130, 123, 130, 119, 134, 119, 135, 120, 136, 120, 137, 122, 139, 122, 141, 123, 142, 123, 143, 123, 142, 124, 141, 125, 141, 126, 140, 129, 143, 130, 143, 132, 145, 137, 145, 138, 146, 139, 146, 143, 150, 143, 151, 145, 153, 145, 155, 146, 156, 146, 157, 150, 157, 151, 158, 159, 158, 160, 159, 166, 159, 167, 160, 169, 160, 170, 159, 171, 159, 175, 155, 177, 155, 178, 154, 181, 154, 182, 153, 183, 153, 184, 152, 185, 152, 186, 151, 187, 151, 188, 150, 189, 150, 190, 149, 190, 148, 191, 147, 192, 148, 192, 149, 193, 150, 195, 148, 195, 145, 199, 141, 199, 138, 198, 139, 197, 139, 196, 140, 195, 140, 194, 139, 193, 139, 190, 136, 190, 135, 182, 127, 181, 127, 180, 126, 171, 126, 170, 125, 169, 125, 168, 124, 175, 117, 175, 116, 176, 115, 176, 112, 177, 111, 177, 110], [5, 24, 4, 25, 4, 26, 3, 27, 3, 31, 2, 32, 2, 37, 3, 38, 3, 39, 5, 41, 5, 42, 6, 43, 6, 44, 7, 45, 7, 46, 11, 50, 12, 50, 13, 51, 15, 51, 16, 52, 18, 52, 19, 53, 28, 53, 29, 54, 29, 55, 28, 56, 28, 59, 27, 60, 27, 66, 28, 67, 28, 68, 29, 69, 29, 70, 28, 71, 24, 71, 23, 72, 3, 72, 2, 73, 0, 73, 0, 115, 5, 115, 6, 116, 8, 116, 9, 117, 10, 117, 12, 119, 12, 122, 13, 122, 14, 123, 16, 123, 21, 128, 21, 129, 24, 132, 29, 132, 30, 133, 30, 134, 29, 135, 29, 138, 28, 139, 27, 139, 26, 140, 25, 140, 23, 142, 22, 142, 21, 143, 20, 143, 19, 144, 18, 144, 17, 145, 16, 145, 15, 146, 14, 146, 13, 147, 12, 147, 10, 145, 9, 145, 8, 144, 8, 147, 9, 148, 9, 149, 10, 150, 12, 150, 13, 151, 14, 151, 15, 150, 16, 150, 17, 149, 18, 149, 19, 148, 20, 148, 21, 147, 24, 147, 25, 146, 27, 146, 28, 145, 31, 145, 34, 148, 34, 150, 35, 151, 35, 152, 36, 152, 37, 153, 40, 153, 41, 152, 45, 152, 46, 151, 48, 151, 49, 150, 51, 150, 52, 149, 58, 149, 59, 148, 69, 148, 70, 147, 78, 147, 79, 146, 84, 146, 84, 139, 85, 138, 85, 137, 87, 135, 88, 135, 89, 134, 90, 134, 91, 133, 92, 133, 94, 131, 95, 131, 96, 130, 97, 130, 98, 129, 98, 128, 97, 128, 96, 127, 94, 127, 93, 126, 92, 126, 91, 125, 89, 125, 88, 124, 86, 124, 85, 123, 84, 123, 83, 122, 80, 122, 79, 121, 76, 121, 75, 120, 68, 120, 67, 119, 50, 119, 49, 118, 49, 116, 50, 115, 50, 110, 51, 109, 51, 106, 52, 105, 52, 102, 53, 101, 53, 99, 54, 98, 54, 97, 55, 96, 55, 95, 56, 94, 56, 93, 57, 92, 57, 91, 59, 89, 60, 89, 62, 87, 63, 87, 65, 89, 65, 90, 67, 92, 67, 93, 68, 94, 68, 96, 69, 97, 69, 98, 70, 99, 70, 101, 71, 102, 71, 104, 72, 105, 72, 106, 73, 107, 73, 108, 74, 107, 74, 106, 76, 104, 76, 101, 77, 100, 77, 99, 78, 98, 78, 97, 79, 96, 79, 93, 80, 92, 80, 91, 81, 90, 81, 89, 84, 86, 84, 85, 86, 83, 87, 83, 90, 80, 91, 80, 92, 79, 93, 79, 94, 78, 97, 78, 97, 77, 98, 76, 98, 72, 97, 71, 97, 70, 96, 69, 96, 68, 94, 66, 94, 65, 93, 64, 93, 63, 91, 61, 91, 60, 89, 58, 89, 57, 88, 56, 88, 55, 86, 53, 86, 52, 80, 46, 80, 45, 75, 40, 74, 40, 72, 38, 71, 38, 69, 36, 68, 36, 67, 35, 66, 35, 65, 34, 64, 34, 63, 33, 62, 33, 61, 32, 59, 32, 58, 31, 55, 31, 54, 30, 38, 30, 37, 31, 36, 31, 35, 32, 34, 32, 33, 33, 32, 33, 31, 34, 31, 35, 30, 36, 30, 38, 31, 39, 31, 44, 30, 45, 30, 48, 29, 49, 28, 49, 27, 48, 25, 48, 24, 47, 21, 47, 20, 48, 17, 48, 16, 47, 15, 47, 10, 42, 9, 42, 8, 41, 8, 39, 7, 38, 7, 29, 10, 26, 11, 26, 10, 25, 9, 25, 8, 24]]\n"
          ]
        },
        {
          "output_type": "display_data",
          "data": {
            "text/plain": [
              "<Figure size 800x800 with 1 Axes>"
            ],
            "image/png": "[encoded data removed]"
          },
          "metadata": {}
        }
      ]
    },
    {
      "cell_type": "markdown",
      "source": [
        "# Official code part"
      ],
      "metadata": {
        "id": "8GACHxb_pVmH"
      },
      "id": "8GACHxb_pVmH"
    },
    {
      "cell_type": "markdown",
      "id": "ac2af55a",
      "metadata": {
        "id": "ac2af55a"
      },
      "source": [
        "#### Utils"
      ]
    },
    {
      "cell_type": "code",
      "execution_count": 27,
      "id": "cd408dda",
      "metadata": {
        "id": "cd408dda"
      },
      "outputs": [],
      "source": [
        "import random\n",
        "import torchvision.transforms.functional as F\n",
        "\n",
        "class Compose:\n",
        "    def __init__(self, transforms):\n",
        "        self.transforms = transforms\n",
        "\n",
        "    def __call__(self, image, target):\n",
        "        for t in self.transforms:\n",
        "            image, target = t(image, target)\n",
        "        return image, target\n",
        "\n",
        "class RandomHorizontalFlip:\n",
        "    def __init__(self, prob=0.5):\n",
        "        self.prob = prob\n",
        "\n",
        "    def __call__(self, image, target):\n",
        "        if random.random() < self.prob:\n",
        "            # image must be a PIL image here\n",
        "            image = F.hflip(image)\n",
        "\n",
        "            width, _ = image.size  # PIL image size\n",
        "\n",
        "            # Flip boxes\n",
        "            if \"boxes\" in target:\n",
        "                boxes = target[\"boxes\"]\n",
        "                boxes[:, [0, 2]] = width - boxes[:, [2, 0]]\n",
        "                target[\"boxes\"] = boxes\n",
        "\n",
        "            # Flip masks (tensor)\n",
        "            if \"masks\" in target:\n",
        "                target[\"masks\"] = target[\"masks\"].flip(-1)\n",
        "\n",
        "        return image, target\n",
        "\n",
        "class ToTensor:\n",
        "    def __call__(self, image, target):\n",
        "        image = F.to_tensor(image)  # converts PIL image to tensor\n",
        "        return image, target\n",
        "\n",
        "def get_transform(train=True):\n",
        "    transforms = []\n",
        "    if train:\n",
        "        transforms.append(RandomHorizontalFlip(0.5))\n",
        "    transforms.append(ToTensor())\n",
        "    return Compose(transforms)\n"
      ]
    },
    {
      "cell_type": "markdown",
      "id": "780481f9",
      "metadata": {
        "id": "780481f9"
      },
      "source": [
        "#### Dataset"
      ]
    },
    {
      "cell_type": "code",
      "execution_count": 35,
      "id": "6898d632",
      "metadata": {
        "id": "6898d632"
      },
      "outputs": [],
      "source": [
        "import os\n",
        "import json\n",
        "import numpy as np\n",
        "from PIL import Image, ImageDraw\n",
        "import torch\n",
        "from torch.utils.data import Dataset\n",
        "import torchvision.transforms.functional as F\n",
        "from pycocotools.coco import COCO\n",
        "\n",
        "class FoodSegJSONDataset(Dataset):\n",
        "    def __init__(self, img_dir, ann_path, transforms=None):\n",
        "        self.image_dir = os.path.join(img_dir, \"img\")\n",
        "        self.coco = COCO(ann_path)\n",
        "        self.image_ids = list(self.coco.imgs.keys())\n",
        "        self.transforms = transforms\n",
        "\n",
        "\n",
        "    def __len__(self):\n",
        "        return len(self.image_ids)\n",
        "\n",
        "\n",
        "    def __getitem__(self, idx):\n",
        "        image_id = self.image_ids[idx]\n",
        "        img_info = self.coco.loadImgs(image_id)[0]\n",
        "        img_path = os.path.join(self.image_dir, img_info['file_name'])\n",
        "\n",
        "        img = Image.open(img_path).convert(\"RGB\")\n",
        "        ann_ids = self.coco.getAnnIds(imgIds=image_id)\n",
        "        anns = self.coco.loadAnns(ann_ids)\n",
        "\n",
        "        boxes = []\n",
        "        labels = []\n",
        "        masks = []\n",
        "\n",
        "        for ann in anns:\n",
        "            if ('segmentation' not in ann) or ('bbox' not in ann):\n",
        "                continue\n",
        "\n",
        "            masks.append(self.coco.annToMask(ann))\n",
        "            boxes.append(ann['bbox'])\n",
        "            labels.append(ann['category_id'])\n",
        "\n",
        "        if len(masks) == 0:\n",
        "            return self.__getitem__((idx + 1) % len(self))  # skip bad data\n",
        "\n",
        "        masks = torch.as_tensor(np.array(masks), dtype=torch.uint8)\n",
        "        boxes = torch.as_tensor(boxes, dtype=torch.float32)\n",
        "        labels = torch.as_tensor(labels, dtype=torch.int64)\n",
        "\n",
        "        # COCO bbox is [x, y, width, height] -> convert to [x1, y1, x2, y2]\n",
        "        boxes[:, 2] = boxes[:, 0] + boxes[:, 2]\n",
        "        boxes[:, 3] = boxes[:, 1] + boxes[:, 3]\n",
        "\n",
        "        target = {\n",
        "            \"boxes\": boxes,\n",
        "            \"labels\": labels,\n",
        "            \"masks\": masks,\n",
        "            \"image_id\": torch.tensor([image_id]),\n",
        "            \"area\": torch.tensor([ann[\"area\"] for ann in anns], dtype=torch.float32),\n",
        "            \"iscrowd\": torch.tensor([ann.get(\"iscrowd\", 0) for ann in anns], dtype=torch.int64)\n",
        "        }\n",
        "\n",
        "        if self.transforms:\n",
        "            img, target = self.transforms(img, target)\n",
        "\n",
        "        return img, target\n",
        "\n",
        "\n"
      ]
    },
    {
      "cell_type": "markdown",
      "id": "7ea6e477",
      "metadata": {
        "id": "7ea6e477"
      },
      "source": [
        "#### Engine"
      ]
    },
    {
      "cell_type": "code",
      "execution_count": 36,
      "id": "e77c167c",
      "metadata": {
        "id": "e77c167c"
      },
      "outputs": [],
      "source": [
        "from tqdm import tqdm\n",
        "\n",
        "\n",
        "def train_one_epoch(model, optimiser, data_loader, device, epoch):\n",
        "    model.train()\n",
        "    google_drive_path = '/content/drive/MyDrive/foodseg103'\n",
        "\n",
        "    count = 0\n",
        "    for images, targets in tqdm(data_loader, desc=f\"Epoch {epoch}\"):\n",
        "        images = list(img.to(device) for img in images)\n",
        "        targets = [{k: v.to(device) for k, v in t.items()} for t in targets]\n",
        "\n",
        "        loss_dict = model(images, targets)\n",
        "        losses = sum(loss for loss in loss_dict.values())\n",
        "\n",
        "        optimiser.zero_grad()\n",
        "        losses.backward()\n",
        "        optimiser.step()\n",
        "\n",
        "        if count%10 == 0:\n",
        "          os.makedirs(google_drive_path + \"/outputs/models\", exist_ok=True)\n",
        "          torch.save(model.state_dict(), f\"{google_drive_path}/outputs/models/model_epoch_{epoch}_checkpoint_{count}.pth\")\n",
        "\n",
        "        count += 1\n",
        "\n",
        "\n",
        "\n",
        "    print(f\"Loss: {losses.item():.4f}\")"
      ]
    },
    {
      "cell_type": "markdown",
      "id": "b979e9e8",
      "metadata": {
        "id": "b979e9e8"
      },
      "source": [
        "#### Models"
      ]
    },
    {
      "cell_type": "code",
      "execution_count": 37,
      "id": "272b0254",
      "metadata": {
        "id": "272b0254"
      },
      "outputs": [],
      "source": [
        "import torchvision\n",
        "\n",
        "from torchvision.models.detection import (\n",
        "    maskrcnn_resnet50_fpn_v2,\n",
        "    MaskRCNN_ResNet50_FPN_V2_Weights,\n",
        "    faster_rcnn,\n",
        "    mask_rcnn)\n",
        "\n",
        "\n",
        "def get_model(num_classes):\n",
        "    model = maskrcnn_resnet50_fpn_v2(weights=MaskRCNN_ResNet50_FPN_V2_Weights.COCO_V1)\n",
        "\n",
        "    # print(model.roi_heads)\n",
        "    # print()\n",
        "    # print()\n",
        "    # print()\n",
        "\n",
        "    in_features = model.roi_heads.box_predictor.cls_score.in_features\n",
        "    model.roi_heads.box_predictor = faster_rcnn.FastRCNNPredictor(in_features, num_classes)\n",
        "    in_features_mask = model.roi_heads.mask_predictor.conv5_mask.in_channels\n",
        "\n",
        "    hidden_layer = 256\n",
        "    model.roi_heads.mask_predictor = mask_rcnn.MaskRCNNPredictor(in_features_mask, hidden_layer, num_classes)\n",
        "\n",
        "    # print(model.roi_heads)\n",
        "    # print()\n",
        "\n",
        "    return model"
      ]
    },
    {
      "cell_type": "code",
      "execution_count": 38,
      "id": "0fa0fc45",
      "metadata": {
        "id": "0fa0fc45"
      },
      "outputs": [],
      "source": [
        "import matplotlib.pyplot as plt\n",
        "import numpy as np\n",
        "import torch\n",
        "import random\n",
        "\n",
        "def show_image_with_masks(img, pred, categories=None, score_thresh=0.5):\n",
        "    img = img.permute(1,2,0).numpy()\n",
        "\n",
        "    plt.figure(figsize=(10,10))\n",
        "    plt.imshow(img)\n",
        "\n",
        "    ax = plt.gca()\n",
        "\n",
        "    masks = pred[\"masks\"]\n",
        "    boxes = pred[\"boxes\"]\n",
        "    labels = pred[\"labels\"]\n",
        "    scores = pred[\"scores\"]\n",
        "\n",
        "    for i in range(len(masks)):\n",
        "        if scores[i] < score_thresh:\n",
        "            continue\n",
        "\n",
        "        mask = masks[i,0].mul(255).byte().cpu().numpy()\n",
        "        color = np.random.rand(3,)\n",
        "\n",
        "        ax.contour(mask, levels=[0.5], colors=[color])\n",
        "\n",
        "        x1, y1, x2, y2 = boxes[i].detach().cpu().numpy()\n",
        "        ax.add_patch(plt.Rectangle((x1, y1), x2 - x1, y2 - y1,\n",
        "                                   fill=False, color=color, linewidth=2))\n",
        "        label_id = labels[i].item()\n",
        "        label_name = categories[label_id] if categories and label_id in categories else str(label_id)\n",
        "        ax.text(x1, y1, f\"{label_id}:{scores[i]:.2f}\", color=color, fontsize=12,\n",
        "                bbox=dict(facecolor='white', edgecolor=color, boxstyle='round,pad=0.2'))\n",
        "\n",
        "    plt.axis(\"off\")\n",
        "    plt.tight_layout()\n",
        "    plt.show()\n",
        "\n",
        "\n"
      ]
    },
    {
      "cell_type": "markdown",
      "id": "b9f47044",
      "metadata": {
        "id": "b9f47044"
      },
      "source": [
        "#### Main.py"
      ]
    },
    {
      "cell_type": "code",
      "source": [
        "# need class_id_mapping mapping"
      ],
      "metadata": {
        "id": "F8CEzpUlr3ZZ"
      },
      "id": "F8CEzpUlr3ZZ",
      "execution_count": 39,
      "outputs": []
    },
    {
      "cell_type": "code",
      "execution_count": 40,
      "id": "586c4de6",
      "metadata": {
        "id": "586c4de6"
      },
      "outputs": [],
      "source": [
        "import torch\n",
        "import json\n",
        "import os\n",
        "\n",
        "from torch.utils.data import DataLoader\n",
        "\n",
        "# from dataset.foodseg_json_dataset import FoodSegJSONDataset\n",
        "# from models.mask_rcnn import get_model\n",
        "# from utils.transforms import get_transform\n",
        "# from engine.train import train_one_epoch\n",
        "# from utils.visualise import show_image_with_masks\n",
        "\n",
        "\n",
        "def collate_fn(batch):\n",
        "    return tuple(zip(*batch))\n",
        "\n",
        "\n",
        "def load_categories(meta_path):\n",
        "    with open(meta_path) as f:\n",
        "        meta = json.load(f)\n",
        "    return {cat['id']: cat['title'] for cat in meta['classes']}\n",
        "\n",
        "\n",
        "def main():\n",
        "    device = torch.device(\"cuda\" if torch.cuda.is_available() else \"cpu\")\n",
        "    print(f\"device: {device}\")\n",
        "\n",
        "    # train_data_path = \"data/foodseg103/train\"\n",
        "    # test_data_path = \"data/foodseg103/test\"\n",
        "    # meta_path = \"data/foodseg103/meta.json\"\n",
        "\n",
        "    google_drive_path = '/content/drive/MyDrive/foodseg103'\n",
        "\n",
        "    train_data_path = os.path.join(google_drive_path, 'train')\n",
        "    test_data_path = os.path.join(google_drive_path, 'test')\n",
        "    meta_path = os.path.join(google_drive_path, 'meta.json')\n",
        "\n",
        "    train_ann_path = os.path.join(google_drive_path, 'train.json')\n",
        "    test_ann_path = os.path.join(google_drive_path, 'test.json')\n",
        "\n",
        "    # Dataset and Dataloader\n",
        "    dataset = FoodSegJSONDataset(train_data_path, train_ann_path, transforms=get_transform(train=True))\n",
        "    data_loader = DataLoader(dataset, batch_size=3, shuffle=True, collate_fn=collate_fn)\n",
        "\n",
        "    print(\"len\", len(dataset))\n",
        "\n",
        "    test_dataset = FoodSegJSONDataset(test_data_path, test_ann_path, transforms=get_transform(train=False))\n",
        "    # test_loader = DataLoader(test_dataset, batch_size=1, shuffle=True, collate_fn=collate_fn)\n",
        "\n",
        "    # Model\n",
        "    num_classes = len(class_id_mapping.keys()) + 1 # background + category count\n",
        "    print()\n",
        "    print(f\"num classes: {num_classes}\")\n",
        "    model = get_model(num_classes).to(device)\n",
        "\n",
        "    # Optimizer\n",
        "    params = [p for p in model.parameters() if p.requires_grad]\n",
        "    optimiser = torch.optim.SGD(params, lr=0.005, momentum=0.9, weight_decay=0.0005)\n",
        "\n",
        "    # Training Loop\n",
        "    for epoch in range(1):\n",
        "        train_one_epoch(model, optimiser, data_loader, device, epoch)\n",
        "\n",
        "    # Visualize predictions on test set\n",
        "    model.eval()\n",
        "    with torch.no_grad():\n",
        "        img, _ = test_dataset[0]\n",
        "        pred = model([img.to(device)])[0]\n",
        "\n",
        "    show_image_with_masks(img, pred, class_id_mapping)"
      ]
    },
    {
      "cell_type": "code",
      "source": [
        "main()"
      ],
      "metadata": {
        "id": "BMhlWFi-rS1v",
        "outputId": "158a7430-f260-4fe8-e0bc-c3a0b3b3c41a",
        "colab": {
          "base_uri": "https://localhost:8080/"
        }
      },
      "id": "BMhlWFi-rS1v",
      "execution_count": null,
      "outputs": [
        {
          "output_type": "stream",
          "name": "stdout",
          "text": [
            "device: cpu\n",
            "loading annotations into memory...\n",
            "Done (t=4.14s)\n",
            "creating index...\n",
            "index created!\n",
            "len 4983\n",
            "loading annotations into memory...\n",
            "Done (t=1.03s)\n",
            "creating index...\n",
            "index created!\n",
            "\n",
            "num classes: 104\n"
          ]
        },
        {
          "output_type": "stream",
          "name": "stderr",
          "text": [
            "Downloading: \"https://download.pytorch.org/models/maskrcnn_resnet50_fpn_v2_coco-73cbd019.pth\" to /root/.cache/torch/hub/checkpoints/maskrcnn_resnet50_fpn_v2_coco-73cbd019.pth\n",
            "100%|██████████| 177M/177M [00:01<00:00, 99.7MB/s]\n",
            "Epoch 0:   0%|          | 5/1661 [11:14<59:19:21, 128.96s/it]"
          ]
        }
      ]
    },
    {
      "cell_type": "code",
      "source": [],
      "metadata": {
        "id": "IKIzrZ2hAFcT"
      },
      "id": "IKIzrZ2hAFcT",
      "execution_count": 71,
      "outputs": []
    }
  ],
  "metadata": {
    "language_info": {
      "name": "python"
    },
    "colab": {
      "provenance": [],
      "gpuType": "T4"
    },
    "kernelspec": {
      "name": "python3",
      "display_name": "Python 3"
    },
    "accelerator": "GPU"
  },
  "nbformat": 4,
  "nbformat_minor": 5
}